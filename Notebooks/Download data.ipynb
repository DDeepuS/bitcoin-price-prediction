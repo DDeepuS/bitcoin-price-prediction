{
 "cells": [
  {
   "cell_type": "code",
   "execution_count": 14,
   "id": "e4516023",
   "metadata": {},
   "outputs": [],
   "source": [
    "# !pip install quandl\n",
    "# !pip install pandas_datareader"
   ]
  },
  {
   "cell_type": "code",
   "execution_count": 15,
   "id": "257109d2",
   "metadata": {},
   "outputs": [],
   "source": [
    "import pandas as pd\n",
    "import numpy as np\n",
    "from pandas.tseries.offsets import DateOffset\n",
    "#import statsmodels.api as sm\n",
    "#from sklearn.metrics import mean_squared_error, accuracy_score\n",
    "import matplotlib.pyplot as plt\n",
    "import seaborn as sns\n",
    "\n",
    "from datetime import datetime, timedelta\n",
    "\n",
    "import pandas_datareader.data as web\n",
    "import requests\n",
    "import io\n",
    "\n",
    "import quandl\n",
    "import yfinance as yf\n",
    "\n",
    "import os\n",
    "import glob"
   ]
  },
  {
   "cell_type": "code",
   "execution_count": 16,
   "id": "0e0ec943",
   "metadata": {},
   "outputs": [],
   "source": [
    "today     = datetime.today().date()\n",
    "end_date  = today - timedelta(days=1)\n",
    "start_date = \"2010-01-01\""
   ]
  },
  {
   "cell_type": "markdown",
   "id": "1c617cef",
   "metadata": {},
   "source": [
    "# Dollar index dxy"
   ]
  },
  {
   "cell_type": "code",
   "execution_count": 17,
   "id": "d68feedb",
   "metadata": {},
   "outputs": [
    {
     "data": {
      "text/html": [
       "<div>\n",
       "<style scoped>\n",
       "    .dataframe tbody tr th:only-of-type {\n",
       "        vertical-align: middle;\n",
       "    }\n",
       "\n",
       "    .dataframe tbody tr th {\n",
       "        vertical-align: top;\n",
       "    }\n",
       "\n",
       "    .dataframe thead th {\n",
       "        text-align: right;\n",
       "    }\n",
       "</style>\n",
       "<table border=\"1\" class=\"dataframe\">\n",
       "  <thead>\n",
       "    <tr style=\"text-align: right;\">\n",
       "      <th></th>\n",
       "      <th>DXY</th>\n",
       "    </tr>\n",
       "  </thead>\n",
       "  <tbody>\n",
       "    <tr>\n",
       "      <th>2010-01-01</th>\n",
       "      <td>NaN</td>\n",
       "    </tr>\n",
       "    <tr>\n",
       "      <th>2010-01-02</th>\n",
       "      <td>NaN</td>\n",
       "    </tr>\n",
       "    <tr>\n",
       "      <th>2010-01-03</th>\n",
       "      <td>NaN</td>\n",
       "    </tr>\n",
       "    <tr>\n",
       "      <th>2010-01-04</th>\n",
       "      <td>92.3566</td>\n",
       "    </tr>\n",
       "    <tr>\n",
       "      <th>2010-01-05</th>\n",
       "      <td>92.2236</td>\n",
       "    </tr>\n",
       "  </tbody>\n",
       "</table>\n",
       "</div>"
      ],
      "text/plain": [
       "                DXY\n",
       "2010-01-01      NaN\n",
       "2010-01-02      NaN\n",
       "2010-01-03      NaN\n",
       "2010-01-04  92.3566\n",
       "2010-01-05  92.2236"
      ]
     },
     "execution_count": 17,
     "metadata": {},
     "output_type": "execute_result"
    }
   ],
   "source": [
    "# Broad trade-weighted dollar index, Jan 2006=100\n",
    "\n",
    "dxy_fred = web.DataReader(\n",
    "    \"DTWEXBGS\",      # Broad index (not discontinued)\n",
    "    \"fred\",\n",
    "    start=start_date,\n",
    "    end=end_date\n",
    ")\n",
    "\n",
    "# Clean up\n",
    "dxy_fred.columns = [\"DXY\"]\n",
    "dxy_fred.sort_index(inplace=True)\n",
    "\n",
    "# 3) reindex to include every calendar day, and forward-fill\n",
    "full_idx = pd.date_range(start=dxy_fred.index.min(), \n",
    "                         end=end_date, \n",
    "                         freq=\"D\")\n",
    "dxy_daily = dxy_fred.reindex(full_idx)       # introduce NaNs on weekends/holidays\n",
    "dxy_daily.ffill(inplace=True)                # carry the last non-NaN forward\n",
    "\n",
    "\n",
    "dxy_daily.head()\n"
   ]
  },
  {
   "cell_type": "code",
   "execution_count": 18,
   "id": "018fa099",
   "metadata": {},
   "outputs": [
    {
     "data": {
      "text/html": [
       "<div>\n",
       "<style scoped>\n",
       "    .dataframe tbody tr th:only-of-type {\n",
       "        vertical-align: middle;\n",
       "    }\n",
       "\n",
       "    .dataframe tbody tr th {\n",
       "        vertical-align: top;\n",
       "    }\n",
       "\n",
       "    .dataframe thead th {\n",
       "        text-align: right;\n",
       "    }\n",
       "</style>\n",
       "<table border=\"1\" class=\"dataframe\">\n",
       "  <thead>\n",
       "    <tr style=\"text-align: right;\">\n",
       "      <th></th>\n",
       "      <th>DXY</th>\n",
       "    </tr>\n",
       "  </thead>\n",
       "  <tbody>\n",
       "    <tr>\n",
       "      <th>2025-07-18</th>\n",
       "      <td>120.7674</td>\n",
       "    </tr>\n",
       "    <tr>\n",
       "      <th>2025-07-19</th>\n",
       "      <td>120.7674</td>\n",
       "    </tr>\n",
       "    <tr>\n",
       "      <th>2025-07-20</th>\n",
       "      <td>120.7674</td>\n",
       "    </tr>\n",
       "    <tr>\n",
       "      <th>2025-07-21</th>\n",
       "      <td>120.7674</td>\n",
       "    </tr>\n",
       "    <tr>\n",
       "      <th>2025-07-22</th>\n",
       "      <td>120.7674</td>\n",
       "    </tr>\n",
       "  </tbody>\n",
       "</table>\n",
       "</div>"
      ],
      "text/plain": [
       "                 DXY\n",
       "2025-07-18  120.7674\n",
       "2025-07-19  120.7674\n",
       "2025-07-20  120.7674\n",
       "2025-07-21  120.7674\n",
       "2025-07-22  120.7674"
      ]
     },
     "execution_count": 18,
     "metadata": {},
     "output_type": "execute_result"
    }
   ],
   "source": [
    "dxy_daily.tail()"
   ]
  },
  {
   "cell_type": "code",
   "execution_count": 19,
   "id": "2a83e043",
   "metadata": {},
   "outputs": [
    {
     "data": {
      "text/plain": [
       "<Axes: title={'center': 'Broad Trade-Weighted Dollar Index (DXY)'}>"
      ]
     },
     "execution_count": 19,
     "metadata": {},
     "output_type": "execute_result"
    },
    {
     "data": {
      "image/png": "[encoded data removed]",
      "text/plain": [
       "<Figure size 600x300 with 1 Axes>"
      ]
     },
     "metadata": {},
     "output_type": "display_data"
    }
   ],
   "source": [
    "dxy_daily.plot(figsize=(6, 3), title=\"Broad Trade-Weighted Dollar Index (DXY)\", grid=True)"
   ]
  },
  {
   "cell_type": "code",
   "execution_count": 20,
   "id": "379d2dc8",
   "metadata": {},
   "outputs": [
    {
     "name": "stdout",
     "output_type": "stream",
     "text": [
      "Saved 5682 rows to ../Data/other/dxy.csv, up through 2025-07-22\n"
     ]
    }
   ],
   "source": [
    "output_path = \"../Data/other/dxy.csv\"\n",
    "dxy_daily.to_csv(output_path, index=True)\n",
    "\n",
    "print(f\"Saved {len(dxy_daily)} rows to {output_path}, up through {end_date}\")"
   ]
  },
  {
   "cell_type": "markdown",
   "id": "077f62e4",
   "metadata": {},
   "source": [
    "# M2 money supply"
   ]
  },
  {
   "cell_type": "code",
   "execution_count": 21,
   "id": "56c76e90",
   "metadata": {},
   "outputs": [
    {
     "data": {
      "text/html": [
       "<div>\n",
       "<style scoped>\n",
       "    .dataframe tbody tr th:only-of-type {\n",
       "        vertical-align: middle;\n",
       "    }\n",
       "\n",
       "    .dataframe tbody tr th {\n",
       "        vertical-align: top;\n",
       "    }\n",
       "\n",
       "    .dataframe thead th {\n",
       "        text-align: right;\n",
       "    }\n",
       "</style>\n",
       "<table border=\"1\" class=\"dataframe\">\n",
       "  <thead>\n",
       "    <tr style=\"text-align: right;\">\n",
       "      <th></th>\n",
       "      <th>US</th>\n",
       "    </tr>\n",
       "  </thead>\n",
       "  <tbody>\n",
       "    <tr>\n",
       "      <th>2010-01-01</th>\n",
       "      <td>8478.0</td>\n",
       "    </tr>\n",
       "    <tr>\n",
       "      <th>2010-01-02</th>\n",
       "      <td>8478.0</td>\n",
       "    </tr>\n",
       "    <tr>\n",
       "      <th>2010-01-03</th>\n",
       "      <td>8478.0</td>\n",
       "    </tr>\n",
       "    <tr>\n",
       "      <th>2010-01-04</th>\n",
       "      <td>8478.0</td>\n",
       "    </tr>\n",
       "    <tr>\n",
       "      <th>2010-01-05</th>\n",
       "      <td>8478.0</td>\n",
       "    </tr>\n",
       "  </tbody>\n",
       "</table>\n",
       "</div>"
      ],
      "text/plain": [
       "                US\n",
       "2010-01-01  8478.0\n",
       "2010-01-02  8478.0\n",
       "2010-01-03  8478.0\n",
       "2010-01-04  8478.0\n",
       "2010-01-05  8478.0"
      ]
     },
     "execution_count": 21,
     "metadata": {},
     "output_type": "execute_result"
    }
   ],
   "source": [
    "codes = {\n",
    "    \"US\": \"M2SL\",            # U.S. M2 Money Stock :contentReference[oaicite:0]{index=0}\n",
    "    #\"EA\": \"MYAGM2EZM196N\",   # Euro‐Area M2 :contentReference[oaicite:1]{index=1}\n",
    "    #\"CN\": \"MYAGM2CNM189N\",   # China M2 :contentReference[oaicite:2]{index=2}\n",
    "    # …add Japan, U.K., etc. as needed\n",
    "}\n",
    "\n",
    "# Fetch each series and align on a common DateTimeIndex\n",
    "df = pd.DataFrame({\n",
    "    country: web.DataReader(code, \"fred\", start_date, end_date)[code]\n",
    "    for country, code in codes.items()\n",
    "})\n",
    "\n",
    "# 2) Build a full daily calendar index\n",
    "full_idx = pd.date_range(start=df.index.min(),\n",
    "                         end=end_date,\n",
    "                         freq=\"D\")\n",
    "\n",
    "# 3) Reindex and forward‐fill\n",
    "df_daily = df.reindex(full_idx)  # will introduce NaNs on non‐report days\n",
    "df_daily.ffill(inplace=True)     # carry last monthly figure forward\n",
    "\n",
    "#df.to_csv(\"../Data/M2_supply.csv\", index=True)\n",
    "df_daily.head()\n"
   ]
  },
  {
   "cell_type": "code",
   "execution_count": 22,
   "id": "3f90cb83",
   "metadata": {},
   "outputs": [
    {
     "data": {
      "text/html": [
       "<div>\n",
       "<style scoped>\n",
       "    .dataframe tbody tr th:only-of-type {\n",
       "        vertical-align: middle;\n",
       "    }\n",
       "\n",
       "    .dataframe tbody tr th {\n",
       "        vertical-align: top;\n",
       "    }\n",
       "\n",
       "    .dataframe thead th {\n",
       "        text-align: right;\n",
       "    }\n",
       "</style>\n",
       "<table border=\"1\" class=\"dataframe\">\n",
       "  <thead>\n",
       "    <tr style=\"text-align: right;\">\n",
       "      <th></th>\n",
       "      <th>US</th>\n",
       "    </tr>\n",
       "  </thead>\n",
       "  <tbody>\n",
       "    <tr>\n",
       "      <th>2025-07-18</th>\n",
       "      <td>22020.8</td>\n",
       "    </tr>\n",
       "    <tr>\n",
       "      <th>2025-07-19</th>\n",
       "      <td>22020.8</td>\n",
       "    </tr>\n",
       "    <tr>\n",
       "      <th>2025-07-20</th>\n",
       "      <td>22020.8</td>\n",
       "    </tr>\n",
       "    <tr>\n",
       "      <th>2025-07-21</th>\n",
       "      <td>22020.8</td>\n",
       "    </tr>\n",
       "    <tr>\n",
       "      <th>2025-07-22</th>\n",
       "      <td>22020.8</td>\n",
       "    </tr>\n",
       "  </tbody>\n",
       "</table>\n",
       "</div>"
      ],
      "text/plain": [
       "                 US\n",
       "2025-07-18  22020.8\n",
       "2025-07-19  22020.8\n",
       "2025-07-20  22020.8\n",
       "2025-07-21  22020.8\n",
       "2025-07-22  22020.8"
      ]
     },
     "execution_count": 22,
     "metadata": {},
     "output_type": "execute_result"
    }
   ],
   "source": [
    "df_daily.tail()"
   ]
  },
  {
   "cell_type": "code",
   "execution_count": 23,
   "id": "c476cbf7",
   "metadata": {},
   "outputs": [
    {
     "data": {
      "image/png": "[encoded data removed]",
      "text/plain": [
       "<Figure size 600x300 with 1 Axes>"
      ]
     },
     "metadata": {},
     "output_type": "display_data"
    }
   ],
   "source": [
    "df_daily['US'].plot(figsize=(6, 3), title=\"M2 Money Supply in the US\", grid=True)\n",
    "plt.show()\n",
    "# df['EA'].plot(figsize=(10, 5), title=\"M2 Money Supply in the Euro Area\", grid=True)\n",
    "# plt.show()\n",
    "# df['CN'].plot(figsize=(10, 5), title=\"M2 Money Supply in China\", grid=True)\n",
    "# plt.show()"
   ]
  },
  {
   "cell_type": "code",
   "execution_count": 24,
   "id": "05646211",
   "metadata": {},
   "outputs": [
    {
     "name": "stdout",
     "output_type": "stream",
     "text": [
      "Saved 5682 rows to ../Data/other/M2_supply.csv, up through 2025-07-22\n"
     ]
    }
   ],
   "source": [
    "output_path=\"../Data/other/M2_supply.csv\"\n",
    "df_daily.to_csv(output_path, index=True)\n",
    "print(f\"Saved {len(df_daily)} rows to {output_path}, up through {end_date}\")"
   ]
  },
  {
   "cell_type": "markdown",
   "id": "e78d0923",
   "metadata": {},
   "source": [
    "# fed funds rate"
   ]
  },
  {
   "cell_type": "code",
   "execution_count": 25,
   "id": "c7a5dabb",
   "metadata": {},
   "outputs": [
    {
     "data": {
      "text/html": [
       "<div>\n",
       "<style scoped>\n",
       "    .dataframe tbody tr th:only-of-type {\n",
       "        vertical-align: middle;\n",
       "    }\n",
       "\n",
       "    .dataframe tbody tr th {\n",
       "        vertical-align: top;\n",
       "    }\n",
       "\n",
       "    .dataframe thead th {\n",
       "        text-align: right;\n",
       "    }\n",
       "</style>\n",
       "<table border=\"1\" class=\"dataframe\">\n",
       "  <thead>\n",
       "    <tr style=\"text-align: right;\">\n",
       "      <th></th>\n",
       "      <th>fed_funds_rate</th>\n",
       "    </tr>\n",
       "    <tr>\n",
       "      <th>DATE</th>\n",
       "      <th></th>\n",
       "    </tr>\n",
       "  </thead>\n",
       "  <tbody>\n",
       "    <tr>\n",
       "      <th>2010-01-01</th>\n",
       "      <td>0.05</td>\n",
       "    </tr>\n",
       "    <tr>\n",
       "      <th>2010-01-02</th>\n",
       "      <td>0.05</td>\n",
       "    </tr>\n",
       "    <tr>\n",
       "      <th>2010-01-03</th>\n",
       "      <td>0.05</td>\n",
       "    </tr>\n",
       "    <tr>\n",
       "      <th>2010-01-04</th>\n",
       "      <td>0.12</td>\n",
       "    </tr>\n",
       "    <tr>\n",
       "      <th>2010-01-05</th>\n",
       "      <td>0.12</td>\n",
       "    </tr>\n",
       "  </tbody>\n",
       "</table>\n",
       "</div>"
      ],
      "text/plain": [
       "            fed_funds_rate\n",
       "DATE                      \n",
       "2010-01-01            0.05\n",
       "2010-01-02            0.05\n",
       "2010-01-03            0.05\n",
       "2010-01-04            0.12\n",
       "2010-01-05            0.12"
      ]
     },
     "execution_count": 25,
     "metadata": {},
     "output_type": "execute_result"
    }
   ],
   "source": [
    "fed_rate = web.DataReader('DFF', 'fred', start_date, end_date)\n",
    "\n",
    "# 3) Rename column for clarity\n",
    "fed_rate.columns = ['fed_funds_rate']\n",
    "\n",
    "fed_rate.sort_index(inplace=True)\n",
    "fed_rate.head()"
   ]
  },
  {
   "cell_type": "code",
   "execution_count": 26,
   "id": "7a0ce1e7",
   "metadata": {},
   "outputs": [
    {
     "data": {
      "text/html": [
       "<div>\n",
       "<style scoped>\n",
       "    .dataframe tbody tr th:only-of-type {\n",
       "        vertical-align: middle;\n",
       "    }\n",
       "\n",
       "    .dataframe tbody tr th {\n",
       "        vertical-align: top;\n",
       "    }\n",
       "\n",
       "    .dataframe thead th {\n",
       "        text-align: right;\n",
       "    }\n",
       "</style>\n",
       "<table border=\"1\" class=\"dataframe\">\n",
       "  <thead>\n",
       "    <tr style=\"text-align: right;\">\n",
       "      <th></th>\n",
       "      <th>fed_funds_rate</th>\n",
       "    </tr>\n",
       "    <tr>\n",
       "      <th>DATE</th>\n",
       "      <th></th>\n",
       "    </tr>\n",
       "  </thead>\n",
       "  <tbody>\n",
       "    <tr>\n",
       "      <th>2025-07-17</th>\n",
       "      <td>4.33</td>\n",
       "    </tr>\n",
       "    <tr>\n",
       "      <th>2025-07-18</th>\n",
       "      <td>4.33</td>\n",
       "    </tr>\n",
       "    <tr>\n",
       "      <th>2025-07-19</th>\n",
       "      <td>4.33</td>\n",
       "    </tr>\n",
       "    <tr>\n",
       "      <th>2025-07-20</th>\n",
       "      <td>4.33</td>\n",
       "    </tr>\n",
       "    <tr>\n",
       "      <th>2025-07-21</th>\n",
       "      <td>4.33</td>\n",
       "    </tr>\n",
       "  </tbody>\n",
       "</table>\n",
       "</div>"
      ],
      "text/plain": [
       "            fed_funds_rate\n",
       "DATE                      \n",
       "2025-07-17            4.33\n",
       "2025-07-18            4.33\n",
       "2025-07-19            4.33\n",
       "2025-07-20            4.33\n",
       "2025-07-21            4.33"
      ]
     },
     "execution_count": 26,
     "metadata": {},
     "output_type": "execute_result"
    }
   ],
   "source": [
    "fed_rate.tail()"
   ]
  },
  {
   "cell_type": "code",
   "execution_count": 27,
   "id": "93b13843",
   "metadata": {},
   "outputs": [
    {
     "data": {
      "image/png": "[encoded data removed]",
      "text/plain": [
       "<Figure size 600x300 with 1 Axes>"
      ]
     },
     "metadata": {},
     "output_type": "display_data"
    }
   ],
   "source": [
    "fed_rate.plot(figsize=(6, 3), title=\"Federal Funds Rate\", grid=True)\n",
    "plt.show()"
   ]
  },
  {
   "cell_type": "code",
   "execution_count": 28,
   "id": "073d331b",
   "metadata": {},
   "outputs": [
    {
     "name": "stdout",
     "output_type": "stream",
     "text": [
      "Saved 5681 rows to ../Data/other/fed_rate.csv, up through 2025-07-22\n"
     ]
    }
   ],
   "source": [
    "output_path=\"../Data/other/fed_rate.csv\"\n",
    "fed_rate.to_csv(output_path, index=True)\n",
    "print(f\"Saved {len(fed_rate)} rows to {output_path}, up through {end_date}\")"
   ]
  },
  {
   "cell_type": "markdown",
   "id": "fb0b3959",
   "metadata": {},
   "source": [
    "# Gold price"
   ]
  },
  {
   "cell_type": "code",
   "execution_count": 29,
   "id": "f5da9ec0",
   "metadata": {},
   "outputs": [
    {
     "name": "stdout",
     "output_type": "stream",
     "text": [
      "YF.download() has changed argument auto_adjust default to True\n"
     ]
    },
    {
     "name": "stderr",
     "output_type": "stream",
     "text": [
      "[*********************100%***********************]  1 of 1 completed\n"
     ]
    },
    {
     "data": {
      "text/html": [
       "<div>\n",
       "<style scoped>\n",
       "    .dataframe tbody tr th:only-of-type {\n",
       "        vertical-align: middle;\n",
       "    }\n",
       "\n",
       "    .dataframe tbody tr th {\n",
       "        vertical-align: top;\n",
       "    }\n",
       "\n",
       "    .dataframe thead th {\n",
       "        text-align: right;\n",
       "    }\n",
       "</style>\n",
       "<table border=\"1\" class=\"dataframe\">\n",
       "  <thead>\n",
       "    <tr style=\"text-align: right;\">\n",
       "      <th>Ticker</th>\n",
       "      <th>gold</th>\n",
       "    </tr>\n",
       "  </thead>\n",
       "  <tbody>\n",
       "    <tr>\n",
       "      <th>2010-01-04</th>\n",
       "      <td>109.800003</td>\n",
       "    </tr>\n",
       "    <tr>\n",
       "      <th>2010-01-05</th>\n",
       "      <td>109.699997</td>\n",
       "    </tr>\n",
       "    <tr>\n",
       "      <th>2010-01-06</th>\n",
       "      <td>111.510002</td>\n",
       "    </tr>\n",
       "    <tr>\n",
       "      <th>2010-01-07</th>\n",
       "      <td>110.820000</td>\n",
       "    </tr>\n",
       "    <tr>\n",
       "      <th>2010-01-08</th>\n",
       "      <td>111.370003</td>\n",
       "    </tr>\n",
       "  </tbody>\n",
       "</table>\n",
       "</div>"
      ],
      "text/plain": [
       "Ticker            gold\n",
       "2010-01-04  109.800003\n",
       "2010-01-05  109.699997\n",
       "2010-01-06  111.510002\n",
       "2010-01-07  110.820000\n",
       "2010-01-08  111.370003"
      ]
     },
     "execution_count": 29,
     "metadata": {},
     "output_type": "execute_result"
    }
   ],
   "source": [
    "gld = yf.download(\"GLD\", start=start_date, end=end_date)\n",
    "gld_close = gld['Close'][['GLD']]\n",
    "gld_close.rename(columns={\"GLD\": \"gold\"}, inplace=True)\n",
    "\n",
    "full_idx = pd.date_range(start=gld_close.index.min(),\n",
    "                         end=end_date,\n",
    "                         freq=\"D\")\n",
    "\n",
    "# 3) Reindex and forward‐fill\n",
    "gld_close = gld_close.reindex(full_idx)  # will introduce NaNs on non‐report days\n",
    "gld_close.ffill(inplace=True)     # carry last monthly figure forward\n",
    "\n",
    "\n",
    "gld_close.head()"
   ]
  },
  {
   "cell_type": "code",
   "execution_count": 30,
   "id": "3c065d22",
   "metadata": {},
   "outputs": [
    {
     "data": {
      "text/html": [
       "<div>\n",
       "<style scoped>\n",
       "    .dataframe tbody tr th:only-of-type {\n",
       "        vertical-align: middle;\n",
       "    }\n",
       "\n",
       "    .dataframe tbody tr th {\n",
       "        vertical-align: top;\n",
       "    }\n",
       "\n",
       "    .dataframe thead th {\n",
       "        text-align: right;\n",
       "    }\n",
       "</style>\n",
       "<table border=\"1\" class=\"dataframe\">\n",
       "  <thead>\n",
       "    <tr style=\"text-align: right;\">\n",
       "      <th>Ticker</th>\n",
       "      <th>gold</th>\n",
       "    </tr>\n",
       "  </thead>\n",
       "  <tbody>\n",
       "    <tr>\n",
       "      <th>2025-07-18</th>\n",
       "      <td>308.390015</td>\n",
       "    </tr>\n",
       "    <tr>\n",
       "      <th>2025-07-19</th>\n",
       "      <td>308.390015</td>\n",
       "    </tr>\n",
       "    <tr>\n",
       "      <th>2025-07-20</th>\n",
       "      <td>308.390015</td>\n",
       "    </tr>\n",
       "    <tr>\n",
       "      <th>2025-07-21</th>\n",
       "      <td>313.130005</td>\n",
       "    </tr>\n",
       "    <tr>\n",
       "      <th>2025-07-22</th>\n",
       "      <td>313.130005</td>\n",
       "    </tr>\n",
       "  </tbody>\n",
       "</table>\n",
       "</div>"
      ],
      "text/plain": [
       "Ticker            gold\n",
       "2025-07-18  308.390015\n",
       "2025-07-19  308.390015\n",
       "2025-07-20  308.390015\n",
       "2025-07-21  313.130005\n",
       "2025-07-22  313.130005"
      ]
     },
     "execution_count": 30,
     "metadata": {},
     "output_type": "execute_result"
    }
   ],
   "source": [
    "gld_close.tail()"
   ]
  },
  {
   "cell_type": "code",
   "execution_count": 31,
   "id": "b06c05c7",
   "metadata": {},
   "outputs": [
    {
     "data": {
      "text/plain": [
       "<Axes: title={'center': 'Gold Price (GLD)'}>"
      ]
     },
     "execution_count": 31,
     "metadata": {},
     "output_type": "execute_result"
    },
    {
     "data": {
      "image/png": "[encoded data removed]",
      "text/plain": [
       "<Figure size 600x300 with 1 Axes>"
      ]
     },
     "metadata": {},
     "output_type": "display_data"
    }
   ],
   "source": [
    "gld_close.plot(figsize=(6, 3), title=\"Gold Price (GLD)\", grid=True)"
   ]
  },
  {
   "cell_type": "code",
   "execution_count": 32,
   "id": "181059b5",
   "metadata": {},
   "outputs": [
    {
     "name": "stdout",
     "output_type": "stream",
     "text": [
      "Saved 5679 rows to ../Data/other/gold.csv, up through 2025-07-22\n"
     ]
    }
   ],
   "source": [
    "output_path=\"../Data/other/gold.csv\"\n",
    "gld_close.to_csv(output_path, index=True)\n",
    "print(f\"Saved {len(gld_close)} rows to {output_path}, up through {end_date}\")"
   ]
  },
  {
   "cell_type": "markdown",
   "id": "c0782c76",
   "metadata": {},
   "source": [
    "# S&P 500"
   ]
  },
  {
   "cell_type": "code",
   "execution_count": 33,
   "id": "71604e89",
   "metadata": {},
   "outputs": [
    {
     "name": "stderr",
     "output_type": "stream",
     "text": [
      "[*********************100%***********************]  1 of 1 completed"
     ]
    },
    {
     "name": "stdout",
     "output_type": "stream",
     "text": [
      "                  SP500\n",
      "2010-01-04  1132.989990\n",
      "2010-01-05  1136.520020\n",
      "2010-01-06  1137.140015\n",
      "2010-01-07  1141.689941\n",
      "2010-01-08  1144.979980\n",
      "                  SP500\n",
      "2025-07-18  6296.790039\n",
      "2025-07-19  6296.790039\n",
      "2025-07-20  6296.790039\n",
      "2025-07-21  6305.600098\n",
      "2025-07-22  6305.600098\n"
     ]
    },
    {
     "name": "stderr",
     "output_type": "stream",
     "text": [
      "\n"
     ]
    }
   ],
   "source": [
    "sp500 = yf.download(\"^GSPC\", start=start_date, end=end_date)\n",
    "\n",
    "# 3) Extract just the Close column\n",
    "sp500_close = sp500[[\"Close\"]].rename(columns={\"Close\": \"SP500\"})\n",
    "\n",
    "sp500_close.columns = ['SP500']\n",
    "\n",
    "full_idx = pd.date_range(start=gld_close.index.min(),\n",
    "                         end=end_date,\n",
    "                         freq=\"D\")\n",
    "\n",
    "# 3) Reindex and forward‐fill\n",
    "sp500_close= sp500_close.reindex(full_idx)  # will introduce NaNs on non‐report days\n",
    "sp500_close.ffill(inplace=True)     # carry last monthly figure forward\n",
    "\n",
    "\n",
    "# 4) (Optional) Inspect\n",
    "print(sp500_close.head())\n",
    "print(sp500_close.tail())"
   ]
  },
  {
   "cell_type": "code",
   "execution_count": 34,
   "id": "87be5d50",
   "metadata": {},
   "outputs": [
    {
     "data": {
      "text/plain": [
       "<Axes: title={'center': 'S&P 500 Index'}>"
      ]
     },
     "execution_count": 34,
     "metadata": {},
     "output_type": "execute_result"
    },
    {
     "data": {
      "image/png": "[encoded data removed]",
      "text/plain": [
       "<Figure size 600x300 with 1 Axes>"
      ]
     },
     "metadata": {},
     "output_type": "display_data"
    }
   ],
   "source": [
    "sp500_close.plot(figsize=(6, 3), title=\"S&P 500 Index\", grid=True)"
   ]
  },
  {
   "cell_type": "code",
   "execution_count": 35,
   "id": "d7018587",
   "metadata": {},
   "outputs": [
    {
     "name": "stdout",
     "output_type": "stream",
     "text": [
      "Saved 5679 rows to ../Data/other/sp500.csv, up through 2025-07-22\n"
     ]
    }
   ],
   "source": [
    "output_path=\"../Data/other/sp500.csv\"\n",
    "sp500_close.to_csv(output_path, index=True)\n",
    "print(f\"Saved {len(sp500_close)} rows to {output_path}, up through {end_date}\")"
   ]
  },
  {
   "cell_type": "markdown",
   "id": "6e1b756b",
   "metadata": {},
   "source": [
    "# NVIDIA"
   ]
  },
  {
   "cell_type": "markdown",
   "id": "39b0ced5",
   "metadata": {},
   "source": [
    "Later we can add\n",
    "\n",
    "Marathon Digital (MARA) – pure-play miner with high BTC-beta\n",
    "\n",
    "Riot Platforms (RIOT) – another large miner, very sensitive to BTC moves\n",
    "\n",
    "Coinbase (COIN) – the biggest U.S. crypto exchange, trading volumes track price action\n",
    "\n",
    "AMD (AMD) – GPU supplier, benefits from miners buying rigs when BTC is up\n",
    "\n",
    "Block (SQ) – Cash App BTC flows give it a quasi-crypto play"
   ]
  },
  {
   "cell_type": "code",
   "execution_count": 36,
   "id": "7aaaf828",
   "metadata": {},
   "outputs": [
    {
     "name": "stderr",
     "output_type": "stream",
     "text": [
      "[*********************100%***********************]  1 of 1 completed"
     ]
    },
    {
     "name": "stdout",
     "output_type": "stream",
     "text": [
      "                NVDA\n",
      "2010-01-04  0.423854\n",
      "2010-01-05  0.430044\n",
      "2010-01-06  0.432794\n",
      "2010-01-07  0.424313\n",
      "2010-01-08  0.425230\n",
      "                  NVDA\n",
      "2025-07-18  172.410004\n",
      "2025-07-19  172.410004\n",
      "2025-07-20  172.410004\n",
      "2025-07-21  171.380005\n",
      "2025-07-22  171.380005\n"
     ]
    },
    {
     "name": "stderr",
     "output_type": "stream",
     "text": [
      "\n"
     ]
    }
   ],
   "source": [
    "nvda = yf.download(\"NVDA\", start=start_date, end=end_date)\n",
    "\n",
    "# 3) Extract only the closing price and flatten the column\n",
    "nvda_close = nvda[[\"Close\"]]\n",
    "nvda_close.columns= ['NVDA']\n",
    "# if you get a MultiIndex: nvda_close.columns = nvda_close.columns.droplevel('Ticker')\n",
    "\n",
    "full_idx = pd.date_range(start=gld_close.index.min(),\n",
    "                         end=end_date,\n",
    "                         freq=\"D\")\n",
    "\n",
    "# 3) Reindex and forward‐fill\n",
    "nvda_close= nvda_close.reindex(full_idx)  # will introduce NaNs on non‐report days\n",
    "nvda_close.ffill(inplace=True)     # carry last monthly figure forward\n",
    "\n",
    "\n",
    "# 4) (Optional) Inspect\n",
    "print(nvda_close.head())\n",
    "print(nvda_close.tail())"
   ]
  },
  {
   "cell_type": "code",
   "execution_count": 37,
   "id": "67d00b66",
   "metadata": {},
   "outputs": [
    {
     "data": {
      "text/plain": [
       "<Axes: title={'center': 'NVIDIA Stock Price'}>"
      ]
     },
     "execution_count": 37,
     "metadata": {},
     "output_type": "execute_result"
    },
    {
     "data": {
      "image/png": "[encoded data removed]",
      "text/plain": [
       "<Figure size 600x300 with 1 Axes>"
      ]
     },
     "metadata": {},
     "output_type": "display_data"
    }
   ],
   "source": [
    "nvda_close.plot(figsize=(6, 3), title=\"NVIDIA Stock Price\", grid=True)"
   ]
  },
  {
   "cell_type": "code",
   "execution_count": 38,
   "id": "bbc80e86",
   "metadata": {},
   "outputs": [
    {
     "name": "stdout",
     "output_type": "stream",
     "text": [
      "Saved 5679 rows to ../Data/other/nvdia.csv, up through 2025-07-22\n"
     ]
    }
   ],
   "source": [
    "output_path=\"../Data/other/nvdia.csv\"\n",
    "nvda_close.to_csv(output_path, index=True)\n",
    "print(f\"Saved {len(nvda_close)} rows to {output_path}, up through {end_date}\")"
   ]
  },
  {
   "cell_type": "markdown",
   "id": "59ec33f2",
   "metadata": {},
   "source": [
    "# Microstrategy"
   ]
  },
  {
   "cell_type": "code",
   "execution_count": 39,
   "id": "0fec9eb8",
   "metadata": {},
   "outputs": [
    {
     "name": "stderr",
     "output_type": "stream",
     "text": [
      "[*********************100%***********************]  1 of 1 completed"
     ]
    },
    {
     "name": "stdout",
     "output_type": "stream",
     "text": [
      "             MSTR\n",
      "2010-01-04  9.616\n",
      "2010-01-05  9.784\n",
      "2010-01-06  9.634\n",
      "2010-01-07  9.249\n",
      "2010-01-08  9.500\n",
      "                  MSTR\n",
      "2025-07-18  423.220001\n",
      "2025-07-19  423.220001\n",
      "2025-07-20  423.220001\n",
      "2025-07-21  426.279999\n",
      "2025-07-22  426.279999\n"
     ]
    },
    {
     "name": "stderr",
     "output_type": "stream",
     "text": [
      "\n"
     ]
    },
    {
     "data": {
      "text/plain": [
       "<Axes: title={'center': 'MicroStrategy Stock Price'}>"
      ]
     },
     "execution_count": 39,
     "metadata": {},
     "output_type": "execute_result"
    },
    {
     "data": {
      "image/png": "[encoded data removed]",
      "text/plain": [
       "<Figure size 600x300 with 1 Axes>"
      ]
     },
     "metadata": {},
     "output_type": "display_data"
    }
   ],
   "source": [
    "mstr = yf.download(\"MSTR\", start=start_date, end=end_date)\n",
    "\n",
    "# 3) Extract only the closing price and flatten the column\n",
    "mstr_close = mstr[[\"Close\"]]\n",
    "mstr_close.columns= ['MSTR']\n",
    "# If you see a MultiIndex, you can drop the extra level:\n",
    "# mstr_close.columns = mstr_close.columns.droplevel('Ticker')\n",
    "\n",
    "full_idx = pd.date_range(start=gld_close.index.min(),\n",
    "                         end=end_date,\n",
    "                         freq=\"D\")\n",
    "\n",
    "# 3) Reindex and forward‐fill\n",
    "mstr_close= mstr_close.reindex(full_idx)  # will introduce NaNs on non‐report days\n",
    "mstr_close.ffill(inplace=True)     # carry last monthly figure forward\n",
    "\n",
    "\n",
    "# 4) (Optional) Inspect\n",
    "print(mstr_close.head())\n",
    "print(mstr_close.tail())\n",
    "mstr_close.plot(figsize=(6, 3), title=\"MicroStrategy Stock Price\", grid=True)"
   ]
  },
  {
   "cell_type": "code",
   "execution_count": 40,
   "id": "c4ba78f9",
   "metadata": {},
   "outputs": [
    {
     "name": "stdout",
     "output_type": "stream",
     "text": [
      "Saved 5679 rows to ../Data/other/mstr.csv, up through 2025-07-22\n"
     ]
    }
   ],
   "source": [
    "output_path=\"../Data/other/mstr.csv\"\n",
    "mstr_close.to_csv(output_path, index=True)\n",
    "print(f\"Saved {len(mstr_close)} rows to {output_path}, up through {end_date}\")"
   ]
  },
  {
   "cell_type": "markdown",
   "id": "644d2c78",
   "metadata": {},
   "source": [
    "# Microstrategy purchases"
   ]
  },
  {
   "cell_type": "code",
   "execution_count": 41,
   "id": "ad902900",
   "metadata": {},
   "outputs": [
    {
     "name": "stdout",
     "output_type": "stream",
     "text": [
      "            BTC_Pur_30d  BTC_Holdings\n",
      "2010-01-01          0.0           0.0\n",
      "2010-01-02          0.0           0.0\n",
      "2010-01-03          0.0           0.0\n",
      "2010-01-04          0.0           0.0\n",
      "2010-01-05          0.0           0.0\n",
      "            BTC_Pur_30d  BTC_Holdings\n",
      "2025-07-18       9450.0      601550.0\n",
      "2025-07-19       9450.0      601550.0\n",
      "2025-07-20       9450.0      601550.0\n",
      "2025-07-21      15670.0      607770.0\n",
      "2025-07-22      15670.0      607770.0\n"
     ]
    }
   ],
   "source": [
    "# 1) Read the CSV into a DataFrame\n",
    "df = pd.read_csv(\"../Data/Microstrategy/Microstrategy_purchases.csv\", parse_dates=[\"Reported\"])\n",
    "df.set_index(\"Reported\", inplace=True)\n",
    "df.sort_index(inplace=True)\n",
    "\n",
    "df.rename(columns={\n",
    "    \"Avg BTC\\nCost\": \"Avg BTC Cost\",\n",
    "    \"BTC\\nHoldings\": \"BTC Holdings\"\n",
    "}, inplace=True)\n",
    "\n",
    "# 2) Clean numeric columns (remove commas and convert to float)\n",
    "df[\"BTC Acquisitions\"] = df[\"BTC Acquisitions\"].str.replace(\",\", \"\").astype(float)\n",
    "df[\"BTC_Holdings\"]     = df[\"BTC Holdings\"].str.replace(\",\", \"\").astype(float)\n",
    "\n",
    "# 3) Build a full daily index from the first to last report date\n",
    "full_idx = pd.date_range(start=start_date, end=end_date, freq=\"D\")\n",
    "\n",
    "# 4) Reindex to daily\n",
    "daily = pd.DataFrame(index=full_idx).join(\n",
    "    df[[\"BTC Acquisitions\", \"BTC_Holdings\"]], how=\"left\"\n",
    ")\n",
    "\n",
    "# 5) Fill missing and forward‐fill, **without** inplace chained ops\n",
    "daily[\"BTC Acquisitions\"] = daily[\"BTC Acquisitions\"].fillna(0)\n",
    "daily[\"BTC_Holdings\"]     = daily[\"BTC_Holdings\"].ffill().fillna(0)\n",
    "\n",
    "# 6) Compute the 30-day rolling sum\n",
    "daily[\"BTC_Pur_30d\"] = (\n",
    "    daily[\"BTC Acquisitions\"]\n",
    "         .rolling(window=30, min_periods=1)\n",
    "         .sum()\n",
    ")\n",
    "\n",
    "# 7) Extract your features\n",
    "features = daily[[\"BTC_Pur_30d\", \"BTC_Holdings\"]]\n",
    "\n",
    "print(features.head())\n",
    "print(features.tail())"
   ]
  },
  {
   "cell_type": "code",
   "execution_count": 42,
   "id": "c63f656d",
   "metadata": {},
   "outputs": [
    {
     "data": {
      "text/plain": [
       "<Axes: title={'center': 'MicroStrategy Bitcoin Holdings and Purchases'}>"
      ]
     },
     "execution_count": 42,
     "metadata": {},
     "output_type": "execute_result"
    },
    {
     "data": {
      "image/png": "[encoded data removed]",
      "text/plain": [
       "<Figure size 1000x500 with 1 Axes>"
      ]
     },
     "metadata": {},
     "output_type": "display_data"
    }
   ],
   "source": [
    "features.plot(figsize=(10, 5), title=\"MicroStrategy Bitcoin Holdings and Purchases\", grid=True)"
   ]
  },
  {
   "cell_type": "code",
   "execution_count": 43,
   "id": "406018b2",
   "metadata": {},
   "outputs": [
    {
     "name": "stdout",
     "output_type": "stream",
     "text": [
      "Saved 5682 rows to ../Data/other/mstr_feature.csv, up through 2025-07-22\n"
     ]
    }
   ],
   "source": [
    "output_path=\"../Data/other/mstr_feature.csv\"\n",
    "features.to_csv(output_path, index=True)\n",
    "print(f\"Saved {len(features)} rows to {output_path}, up through {end_date}\")"
   ]
  },
  {
   "cell_type": "markdown",
   "id": "b8c93d1f",
   "metadata": {},
   "source": [
    "# Fed rate expectation"
   ]
  },
  {
   "cell_type": "markdown",
   "id": "4982b270",
   "metadata": {},
   "source": [
    "9N9csm5xmhS4LhowKyDA"
   ]
  },
  {
   "cell_type": "code",
   "execution_count": 44,
   "id": "c4b5f896",
   "metadata": {},
   "outputs": [],
   "source": [
    "# # import quandl\n",
    "# # import pandas as pd\n",
    "# # from datetime import datetime, timedelta\n",
    "\n",
    "# # 1) Configure your Quandl API key\n",
    "# quandl.ApiConfig.api_key = \"9N9csm5xmhS4LhowKyDA\"\n",
    "\n",
    "\n",
    "# # 3) Download the continuous Fed Funds futures contract\n",
    "# #    Code “CHRIS/CME_FF” is the 30-day Fed Funds continuous future :contentReference[oaicite:0]{index=0}\n",
    "# ff = quandl.get(\n",
    "#     \"CHRIS/CME_FF\",\n",
    "#     start_date=start_date,\n",
    "#     end_date=end_date\n",
    "# )\n",
    "\n",
    "# # 4) Compute the implied Fed Funds rate = 100 − Settle price\n",
    "# #    “Settle” is the daily settlement price of the front‐month contract\n",
    "# ff[\"Implied_FedFunds\"] = 100.0 - ff[\"Settle\"]\n",
    "\n",
    "# # 5) Reindex to a full daily calendar and forward-fill gaps\n",
    "# full_idx = pd.date_range(ff.index.min(), ff.index.max(), freq=\"D\")\n",
    "# ff_daily = ff.reindex(full_idx)\n",
    "# ff_daily[\"Implied_FedFunds\"] = ff_daily[\"Implied_FedFunds\"].ffill()\n",
    "\n",
    "# # 6) Keep only the implied rate and save\n",
    "# fedfunds_expectation = ff_daily[[\"Implied_FedFunds\"]]\n",
    "# #fedfunds_expectation.to_csv(\"../Data/fedfunds_implied.csv\", index_label=\"Date\")\n",
    "\n",
    "# print(fedfunds_expectation.head())\n",
    "# print(fedfunds_expectation.tail())\n"
   ]
  },
  {
   "cell_type": "markdown",
   "id": "3836cf51",
   "metadata": {},
   "source": [
    "# CPI index"
   ]
  },
  {
   "cell_type": "code",
   "execution_count": 45,
   "id": "a42530b7",
   "metadata": {},
   "outputs": [
    {
     "name": "stdout",
     "output_type": "stream",
     "text": [
      "            inflation\n",
      "2010-01-01   2.621111\n",
      "2010-01-02   2.621111\n",
      "2010-01-03   2.621111\n",
      "2010-01-04   2.621111\n",
      "2010-01-05   2.621111\n",
      "            inflation\n",
      "2025-07-18   2.672683\n",
      "2025-07-19   2.672683\n",
      "2025-07-20   2.672683\n",
      "2025-07-21   2.672683\n",
      "2025-07-22   2.672683\n"
     ]
    },
    {
     "data": {
      "text/plain": [
       "<Axes: title={'center': 'CPI Index and Inflation Rates'}>"
      ]
     },
     "execution_count": 45,
     "metadata": {},
     "output_type": "execute_result"
    },
    {
     "data": {
      "image/png": "[encoded data removed]",
      "text/plain": [
       "<Figure size 1000x500 with 1 Axes>"
      ]
     },
     "metadata": {},
     "output_type": "display_data"
    }
   ],
   "source": [
    "start_date_lag = (\n",
    "    pd.to_datetime(start_date) \n",
    "    - pd.DateOffset(years=1)\n",
    ").strftime(\"%Y-%m-%d\")\n",
    "\n",
    "# 2) Fetch CPI from one year before through your end\n",
    "cpi = web.DataReader(\"CPIAUCSL\", \"fred\", start_date_lag, end_date)\n",
    "cpi.rename(columns={\"CPIAUCSL\": \"CPI_Index\"}, inplace=True)\n",
    "\n",
    "# 3) Compute the annual inflation rate\n",
    "#    (percent change over 12 months)\n",
    "cpi[\"inflation\"] = cpi[\"CPI_Index\"].pct_change(periods=12) * 100\n",
    "\n",
    "# 4) Now slice off that “extra” year so your data begins at start_date\n",
    "cpi = cpi.loc[start_date:]\n",
    "\n",
    "# 5) Keep only the annual inflation column\n",
    "inflation = cpi[[\"inflation\"]]\n",
    "\n",
    "full_idx = pd.date_range(start=start_date,\n",
    "                         end=end_date,\n",
    "                         freq=\"D\")\n",
    "\n",
    "# 3) Reindex and forward‐fill\n",
    "inflation= inflation.reindex(full_idx)  # will introduce NaNs on non‐report days\n",
    "inflation.ffill(inplace=True)     # carry last monthly figure forward\n",
    "\n",
    "\n",
    "print(inflation.head())   # will start at 2010-01-31 with a valid number\n",
    "print(inflation.tail())\n",
    "inflation.plot(figsize=(10, 5), title=\"CPI Index and Inflation Rates\", grid=True)"
   ]
  },
  {
   "cell_type": "code",
   "execution_count": 46,
   "id": "d5189c52",
   "metadata": {},
   "outputs": [
    {
     "name": "stdout",
     "output_type": "stream",
     "text": [
      "Saved 5682 rows to ../Data/other/inflation.csv, up through 2025-07-22\n"
     ]
    }
   ],
   "source": [
    "output_path=\"../Data/other/inflation.csv\"\n",
    "inflation.to_csv(output_path, index=True)\n",
    "print(f\"Saved {len(inflation)} rows to {output_path}, up through {end_date}\")"
   ]
  },
  {
   "cell_type": "code",
   "execution_count": null,
   "id": "999a19db",
   "metadata": {},
   "outputs": [],
   "source": []
  }
 ],
 "metadata": {
  "kernelspec": {
   "display_name": "erdos_spring_2025",
   "language": "python",
   "name": "python3"
  },
  "language_info": {
   "codemirror_mode": {
    "name": "ipython",
    "version": 3
   },
   "file_extension": ".py",
   "mimetype": "text/x-python",
   "name": "python",
   "nbconvert_exporter": "python",
   "pygments_lexer": "ipython3",
   "version": "3.12.8"
  }
 },
 "nbformat": 4,
 "nbformat_minor": 5
}
